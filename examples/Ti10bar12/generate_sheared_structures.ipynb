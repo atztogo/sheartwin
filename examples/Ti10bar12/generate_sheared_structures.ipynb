{
 "cells": [
  {
   "cell_type": "code",
   "execution_count": 42,
   "metadata": {},
   "outputs": [],
   "source": [
    "import numpy as np\n",
    "from sheartwin import ShearTwin\n",
    "import spglib \n",
    "from phonopy.structure.cells import get_cell_parameters\n",
    "from phonopy.interface.calculator import write_crystal_structure\n",
    "\n",
    "Q_10bar12 = [[2, 0, -2], [1, 1, -1], [1, 0, 1]]\n",
    "\n",
    "def T_10bar12(t):\n",
    "    \"\"\"Return change of basis matrix for {10-12}.\"\"\"\n",
    "    return [[1, 0, t], [0, 1, 0], [0, 0, 1]]"
   ]
  },
  {
   "cell_type": "code",
   "execution_count": 37,
   "metadata": {},
   "outputs": [],
   "source": [
    "sheartwin = ShearTwin(cell_yaml_filename=\"phonopy_symcells_Ti.yaml\")\n",
    "sheartwin.Q = Q_10bar12\n",
    "sheartwin.T = T_10bar12"
   ]
  },
  {
   "cell_type": "code",
   "execution_count": 38,
   "metadata": {},
   "outputs": [
    {
     "name": "stdout",
     "output_type": "stream",
     "text": [
      "0.18075612011308803\n"
     ]
    }
   ],
   "source": [
    "cell = sheartwin.unitcell\n",
    "Q = sheartwin.Q\n",
    "lattice = np.dot(cell.cell.T, Q)  # (a', b', c') as column vectors of extended unit cell\n",
    "a, b, c = get_cell_parameters(lattice.T)\n",
    "tt = -2 * np.dot(lattice[:, 2], lattice[:, 0]) / a ** 2  # twinning shear -2a.c/|a|^2\n",
    "print(tt)\n"
   ]
  },
  {
   "cell_type": "code",
   "execution_count": 39,
   "metadata": {},
   "outputs": [],
   "source": [
    "sheared_cells = []\n",
    "for i in range(21):\n",
    "    t = tt * i / 20.0\n",
    "    sheared_cells.append(sheartwin.run(t))"
   ]
  },
  {
   "cell_type": "code",
   "execution_count": 40,
   "metadata": {},
   "outputs": [
    {
     "name": "stdout",
     "output_type": "stream",
     "text": [
      "P6_3/mmc (194)\n",
      "lattice:\n",
      "- [     2.921013685507910,     0.000000000000000,     0.000000000000000 ] # a\n",
      "- [    -1.460506842753955,     2.529672056451859,     0.000000000000000 ] # b\n",
      "- [     0.000000000000000,     0.000000000000000,     4.621001722496902 ] # c\n",
      "points:\n",
      "- symbol: Ti # 1\n",
      "  coordinates: [  0.333333333333333,  0.666666666666667,  0.750000000000000 ]\n",
      "  mass: 47.867000\n",
      "- symbol: Ti # 2\n",
      "  coordinates: [  0.666666666666667,  0.333333333333333,  0.250000000000000 ]\n",
      "  mass: 47.867000\n",
      "Cmcm (63)\n",
      "lattice:\n",
      "- [     2.723017022786794,    -0.114313426520684,    -0.208818585598609 ] # a\n",
      "- [    -1.460506842753955,     2.529672056451859,     0.000000000000000 ] # b\n",
      "- [     0.395993325442231,     0.228626853041367,     5.038638893694120 ] # c\n",
      "points:\n",
      "- symbol: Ti # 1\n",
      "  coordinates: [  0.333333333333333,  0.666666666666667,  0.750000000000000 ]\n",
      "  mass: 47.867000\n",
      "- symbol: Ti # 2\n",
      "  coordinates: [  0.666666666666667,  0.333333333333333,  0.250000000000000 ]\n",
      "  mass: 47.867000\n",
      "\n"
     ]
    }
   ],
   "source": [
    "print(spglib.get_spacegroup(sheared_cells[0]))\n",
    "print(sheared_cells[0])\n",
    "print(spglib.get_spacegroup(sheared_cells[-1]))\n",
    "print(sheared_cells[-1])\n",
    "print()\n",
    "\n",
    "# Lattices of extend unit cells are same although orientations are different.\n",
    "abc_matrix = get_cell_parameters(np.dot(sheared_cells[0].cell.T, Q).T)\n",
    "abc_twin = get_cell_parameters(np.dot(sheared_cells[-1].cell.T, Q).T)\n",
    "np.testing.assert_allclose(abc_matrix, abc_twin)"
   ]
  },
  {
   "cell_type": "code",
   "execution_count": 43,
   "metadata": {},
   "outputs": [],
   "source": [
    "for i, sh_cell in enumerate(sheared_cells):\n",
    "    write_crystal_structure(f\"structure_{i}\", sh_cell, interface_mode=\"lammps\")"
   ]
  }
 ],
 "metadata": {
  "kernelspec": {
   "display_name": "lammps",
   "language": "python",
   "name": "python3"
  },
  "language_info": {
   "codemirror_mode": {
    "name": "ipython",
    "version": 3
   },
   "file_extension": ".py",
   "mimetype": "text/x-python",
   "name": "python",
   "nbconvert_exporter": "python",
   "pygments_lexer": "ipython3",
   "version": "3.11.3"
  },
  "orig_nbformat": 4
 },
 "nbformat": 4,
 "nbformat_minor": 2
}
